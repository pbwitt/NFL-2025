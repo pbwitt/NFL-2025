import pandas as pd

# adjust the path if you used a different --out
df = pd.read_csv("nfl_player_dump_2023/weekly_player_stats.csv")
print(df.shape)
df.head()




